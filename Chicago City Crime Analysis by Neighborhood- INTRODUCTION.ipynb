{
 "cells": [
  {
   "cell_type": "markdown",
   "metadata": {},
   "source": [
    "# Introduction: Background of the Problem"
   ]
  },
  {
   "cell_type": "markdown",
   "metadata": {},
   "source": [
    "It is often important for Law Enforcement Agency to identify the crime rate and pattern in an area to identify proper strategies: enforcement, education, campaigning etc. \n",
    "\n",
    "Chicago has violent crime about 49% higher than the average rate of crime in Illinois and 164% higher than the rest of the nation (https://www.areavibes.com/chicago-il/crime/). Therefore, it is often imortant for any pontetial home buyers or renters do some study and anlyze the crime data before making decisions of a safe enighborhood.\n",
    "\n",
    "In this study we will inventigate a cluster analysis of the Chicago Neighborhood to find out the typical crime types, frequency etc. The analysis can also help someone a potential buyer to choose a relatively safe neighborhood. "
   ]
  },
  {
   "cell_type": "markdown",
   "metadata": {},
   "source": [
    "The study shows an application of web scraping, geo-coding and unsupervised machine learning technique (i.e. K-nearest neighborhood analysis) to analyze and cluster residential neighborhood in terms of types and extensity of crimes. The results can help a home buyer or renter choosing a safer neighborhood or cluster. It can also help law enforcement agencies consider strategic planning to mitigate the crimes."
   ]
  }
 ],
 "metadata": {
  "kernelspec": {
   "display_name": "Python 3",
   "language": "python",
   "name": "python3"
  },
  "language_info": {
   "codemirror_mode": {
    "name": "ipython",
    "version": 3
   },
   "file_extension": ".py",
   "mimetype": "text/x-python",
   "name": "python",
   "nbconvert_exporter": "python",
   "pygments_lexer": "ipython3",
   "version": "3.7.1"
  }
 },
 "nbformat": 4,
 "nbformat_minor": 2
}
