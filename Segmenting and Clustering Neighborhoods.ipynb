{
 "cells": [
  {
   "cell_type": "markdown",
   "metadata": {},
   "source": [
    "## First install the beautifulsoup4 if not exists already"
   ]
  },
  {
   "cell_type": "code",
   "execution_count": 1,
   "metadata": {},
   "outputs": [
    {
     "name": "stdout",
     "output_type": "stream",
     "text": [
      "Requirement already satisfied: beautifulsoup4 in c:\\programdata\\anaconda3\\lib\\site-packages (4.6.3)\n"
     ]
    }
   ],
   "source": [
    "!pip install beautifulsoup4"
   ]
  },
  {
   "cell_type": "markdown",
   "metadata": {},
   "source": [
    "## Then install the lxml library"
   ]
  },
  {
   "cell_type": "code",
   "execution_count": 2,
   "metadata": {},
   "outputs": [
    {
     "name": "stdout",
     "output_type": "stream",
     "text": [
      "Requirement already satisfied: lxml in c:\\programdata\\anaconda3\\lib\\site-packages (4.2.5)\n"
     ]
    }
   ],
   "source": [
    "!pip install lxml"
   ]
  },
  {
   "cell_type": "code",
   "execution_count": 3,
   "metadata": {},
   "outputs": [],
   "source": [
    "import bs4 as bs\n",
    "import urllib.request"
   ]
  },
  {
   "cell_type": "code",
   "execution_count": 4,
   "metadata": {},
   "outputs": [],
   "source": [
    "#read the URL and clean by BeautifulSoup class\n",
    "sauce = urllib.request.urlopen ('https://en.wikipedia.org/wiki/List_of_postal_codes_of_Canada:_M').read()\n",
    "soup = bs.BeautifulSoup (sauce,'lxml')"
   ]
  },
  {
   "cell_type": "code",
   "execution_count": 5,
   "metadata": {},
   "outputs": [
    {
     "data": {
      "text/plain": [
       "<title>List of postal codes of Canada: M - Wikipedia</title>"
      ]
     },
     "execution_count": 5,
     "metadata": {},
     "output_type": "execute_result"
    }
   ],
   "source": [
    "#Check the title\n",
    "soup.title"
   ]
  },
  {
   "cell_type": "code",
   "execution_count": 6,
   "metadata": {},
   "outputs": [],
   "source": [
    "#Read the table using find function since there is only one table available\n",
    "table = soup.find('table')"
   ]
  },
  {
   "cell_type": "code",
   "execution_count": 7,
   "metadata": {},
   "outputs": [],
   "source": [
    "#Read the table rows by reading tags 'tr'\n",
    "table_rows =table.find_all('tr')"
   ]
  },
  {
   "cell_type": "code",
   "execution_count": 8,
   "metadata": {},
   "outputs": [
    {
     "name": "stdout",
     "output_type": "stream",
     "text": [
      "[]\n",
      "['M1A', 'Not assigned', 'Not assigned\\n']\n",
      "['M2A', 'Not assigned', 'Not assigned\\n']\n",
      "['M3A', 'North York', 'Parkwoods\\n']\n",
      "['M4A', 'North York', 'Victoria Village\\n']\n",
      "['M5A', 'Downtown Toronto', 'Harbourfront\\n']\n",
      "['M6A', 'North York', 'Lawrence Heights\\n']\n",
      "['M6A', 'North York', 'Lawrence Manor\\n']\n",
      "['M7A', 'Downtown Toronto', \"Queen's Park\\n\"]\n",
      "['M8A', 'Not assigned', 'Not assigned\\n']\n",
      "['M9A', \"Queen's Park\", 'Not assigned\\n']\n",
      "['M1B', 'Scarborough', 'Rouge\\n']\n",
      "['M1B', 'Scarborough', 'Malvern\\n']\n",
      "['M2B', 'Not assigned', 'Not assigned\\n']\n",
      "['M3B', 'North York', 'Don Mills North\\n']\n",
      "['M4B', 'East York', 'Woodbine Gardens\\n']\n",
      "['M4B', 'East York', 'Parkview Hill\\n']\n",
      "['M5B', 'Downtown Toronto', 'Ryerson\\n']\n",
      "['M5B', 'Downtown Toronto', 'Garden District\\n']\n",
      "['M6B', 'North York', 'Glencairn\\n']\n",
      "['M7B', 'Not assigned', 'Not assigned\\n']\n",
      "['M8B', 'Not assigned', 'Not assigned\\n']\n",
      "['M9B', 'Etobicoke', 'Cloverdale\\n']\n",
      "['M9B', 'Etobicoke', 'Islington\\n']\n",
      "['M9B', 'Etobicoke', 'Martin Grove\\n']\n",
      "['M9B', 'Etobicoke', 'Princess Gardens\\n']\n",
      "['M9B', 'Etobicoke', 'West Deane Park\\n']\n",
      "['M1C', 'Scarborough', 'Highland Creek\\n']\n",
      "['M1C', 'Scarborough', 'Rouge Hill\\n']\n",
      "['M1C', 'Scarborough', 'Port Union\\n']\n",
      "['M2C', 'Not assigned', 'Not assigned\\n']\n",
      "['M3C', 'North York', 'Flemingdon Park\\n']\n",
      "['M3C', 'North York', 'Don Mills South\\n']\n",
      "['M4C', 'East York', 'Woodbine Heights\\n']\n",
      "['M5C', 'Downtown Toronto', 'St. James Town\\n']\n",
      "['M6C', 'York', 'Humewood-Cedarvale\\n']\n",
      "['M7C', 'Not assigned', 'Not assigned\\n']\n",
      "['M8C', 'Not assigned', 'Not assigned\\n']\n",
      "['M9C', 'Etobicoke', 'Bloordale Gardens\\n']\n",
      "['M9C', 'Etobicoke', 'Eringate\\n']\n",
      "['M9C', 'Etobicoke', 'Markland Wood\\n']\n",
      "['M9C', 'Etobicoke', 'Old Burnhamthorpe\\n']\n",
      "['M1E', 'Scarborough', 'Guildwood\\n']\n",
      "['M1E', 'Scarborough', 'Morningside\\n']\n",
      "['M1E', 'Scarborough', 'West Hill\\n']\n",
      "['M2E', 'Not assigned', 'Not assigned\\n']\n",
      "['M3E', 'Not assigned', 'Not assigned\\n']\n",
      "['M4E', 'East Toronto', 'The Beaches\\n']\n",
      "['M5E', 'Downtown Toronto', 'Berczy Park\\n']\n",
      "['M6E', 'York', 'Caledonia-Fairbanks\\n']\n",
      "['M7E', 'Not assigned', 'Not assigned\\n']\n",
      "['M8E', 'Not assigned', 'Not assigned\\n']\n",
      "['M9E', 'Not assigned', 'Not assigned\\n']\n",
      "['M1G', 'Scarborough', 'Woburn\\n']\n",
      "['M2G', 'Not assigned', 'Not assigned\\n']\n",
      "['M3G', 'Not assigned', 'Not assigned\\n']\n",
      "['M4G', 'East York', 'Leaside\\n']\n",
      "['M5G', 'Downtown Toronto', 'Central Bay Street\\n']\n",
      "['M6G', 'Downtown Toronto', 'Christie\\n']\n",
      "['M7G', 'Not assigned', 'Not assigned\\n']\n",
      "['M8G', 'Not assigned', 'Not assigned\\n']\n",
      "['M9G', 'Not assigned', 'Not assigned\\n']\n",
      "['M1H', 'Scarborough', 'Cedarbrae\\n']\n",
      "['M2H', 'North York', 'Hillcrest Village\\n']\n",
      "['M3H', 'North York', 'Bathurst Manor\\n']\n",
      "['M3H', 'North York', 'Downsview North\\n']\n",
      "['M3H', 'North York', 'Wilson Heights\\n']\n",
      "['M4H', 'East York', 'Thorncliffe Park\\n']\n",
      "['M5H', 'Downtown Toronto', 'Adelaide\\n']\n",
      "['M5H', 'Downtown Toronto', 'King\\n']\n",
      "['M5H', 'Downtown Toronto', 'Richmond\\n']\n",
      "['M6H', 'West Toronto', 'Dovercourt Village\\n']\n",
      "['M6H', 'West Toronto', 'Dufferin\\n']\n",
      "['M7H', 'Not assigned', 'Not assigned\\n']\n",
      "['M8H', 'Not assigned', 'Not assigned\\n']\n",
      "['M9H', 'Not assigned', 'Not assigned\\n']\n",
      "['M1J', 'Scarborough', 'Scarborough Village\\n']\n",
      "['M2J', 'North York', 'Fairview\\n']\n",
      "['M2J', 'North York', 'Henry Farm\\n']\n",
      "['M2J', 'North York', 'Oriole\\n']\n",
      "['M3J', 'North York', 'Northwood Park\\n']\n",
      "['M3J', 'North York', 'York University\\n']\n",
      "['M4J', 'East York', 'East Toronto\\n']\n",
      "['M5J', 'Downtown Toronto', 'Harbourfront East\\n']\n",
      "['M5J', 'Downtown Toronto', 'Toronto Islands\\n']\n",
      "['M5J', 'Downtown Toronto', 'Union Station\\n']\n",
      "['M6J', 'West Toronto', 'Little Portugal\\n']\n",
      "['M6J', 'West Toronto', 'Trinity\\n']\n",
      "['M7J', 'Not assigned', 'Not assigned\\n']\n",
      "['M8J', 'Not assigned', 'Not assigned\\n']\n",
      "['M9J', 'Not assigned', 'Not assigned\\n']\n",
      "['M1K', 'Scarborough', 'East Birchmount Park\\n']\n",
      "['M1K', 'Scarborough', 'Ionview\\n']\n",
      "['M1K', 'Scarborough', 'Kennedy Park\\n']\n",
      "['M2K', 'North York', 'Bayview Village\\n']\n",
      "['M3K', 'North York', 'CFB Toronto\\n']\n",
      "['M3K', 'North York', 'Downsview East\\n']\n",
      "['M4K', 'East Toronto', 'The Danforth West\\n']\n",
      "['M4K', 'East Toronto', 'Riverdale\\n']\n",
      "['M5K', 'Downtown Toronto', 'Design Exchange\\n']\n",
      "['M5K', 'Downtown Toronto', 'Toronto Dominion Centre\\n']\n",
      "['M6K', 'West Toronto', 'Brockton\\n']\n",
      "['M6K', 'West Toronto', 'Exhibition Place\\n']\n",
      "['M6K', 'West Toronto', 'Parkdale Village\\n']\n",
      "['M7K', 'Not assigned', 'Not assigned\\n']\n",
      "['M8K', 'Not assigned', 'Not assigned\\n']\n",
      "['M9K', 'Not assigned', 'Not assigned\\n']\n",
      "['M1L', 'Scarborough', 'Clairlea\\n']\n",
      "['M1L', 'Scarborough', 'Golden Mile\\n']\n",
      "['M1L', 'Scarborough', 'Oakridge\\n']\n",
      "['M2L', 'North York', 'Silver Hills\\n']\n",
      "['M2L', 'North York', 'York Mills\\n']\n",
      "['M3L', 'North York', 'Downsview West\\n']\n",
      "['M4L', 'East Toronto', 'The Beaches West\\n']\n",
      "['M4L', 'East Toronto', 'India Bazaar\\n']\n",
      "['M5L', 'Downtown Toronto', 'Commerce Court\\n']\n",
      "['M5L', 'Downtown Toronto', 'Victoria Hotel\\n']\n",
      "['M6L', 'North York', 'Downsview\\n']\n",
      "['M6L', 'North York', 'North Park\\n']\n",
      "['M6L', 'North York', 'Upwood Park\\n']\n",
      "['M7L', 'Not assigned', 'Not assigned\\n']\n",
      "['M8L', 'Not assigned', 'Not assigned\\n']\n",
      "['M9L', 'North York', 'Humber Summit\\n']\n",
      "['M1M', 'Scarborough', 'Cliffcrest\\n']\n",
      "['M1M', 'Scarborough', 'Cliffside\\n']\n",
      "['M1M', 'Scarborough', 'Scarborough Village West\\n']\n",
      "['M2M', 'North York', 'Newtonbrook\\n']\n",
      "['M2M', 'North York', 'Willowdale\\n']\n",
      "['M3M', 'North York', 'Downsview Central\\n']\n",
      "['M4M', 'East Toronto', 'Studio District\\n']\n",
      "['M5M', 'North York', 'Bedford Park\\n']\n",
      "['M5M', 'North York', 'Lawrence Manor East\\n']\n",
      "['M6M', 'York', 'Del Ray\\n']\n",
      "['M6M', 'York', 'Keelesdale\\n']\n",
      "['M6M', 'York', 'Mount Dennis\\n']\n",
      "['M6M', 'York', 'Silverthorn\\n']\n",
      "['M7M', 'Not assigned', 'Not assigned\\n']\n",
      "['M8M', 'Not assigned', 'Not assigned\\n']\n",
      "['M9M', 'North York', 'Emery\\n']\n",
      "['M9M', 'North York', 'Humberlea\\n']\n",
      "['M1N', 'Scarborough', 'Birch Cliff\\n']\n",
      "['M1N', 'Scarborough', 'Cliffside West\\n']\n",
      "['M2N', 'North York', 'Willowdale South\\n']\n",
      "['M3N', 'North York', 'Downsview Northwest\\n']\n",
      "['M4N', 'Central Toronto', 'Lawrence Park\\n']\n",
      "['M5N', 'Central Toronto', 'Roselawn\\n']\n",
      "['M6N', 'York', 'The Junction North\\n']\n",
      "['M6N', 'York', 'Runnymede\\n']\n",
      "['M7N', 'Not assigned', 'Not assigned\\n']\n",
      "['M8N', 'Not assigned', 'Not assigned\\n']\n",
      "['M9N', 'York', 'Weston\\n']\n",
      "['M1P', 'Scarborough', 'Dorset Park\\n']\n",
      "['M1P', 'Scarborough', 'Scarborough Town Centre\\n']\n",
      "['M1P', 'Scarborough', 'Wexford Heights\\n']\n",
      "['M2P', 'North York', 'York Mills West\\n']\n",
      "['M3P', 'Not assigned', 'Not assigned\\n']\n",
      "['M4P', 'Central Toronto', 'Davisville North\\n']\n",
      "['M5P', 'Central Toronto', 'Forest Hill North\\n']\n",
      "['M5P', 'Central Toronto', 'Forest Hill West\\n']\n",
      "['M6P', 'West Toronto', 'High Park\\n']\n",
      "['M6P', 'West Toronto', 'The Junction South\\n']\n",
      "['M7P', 'Not assigned', 'Not assigned\\n']\n",
      "['M8P', 'Not assigned', 'Not assigned\\n']\n",
      "['M9P', 'Etobicoke', 'Westmount\\n']\n",
      "['M1R', 'Scarborough', 'Maryvale\\n']\n",
      "['M1R', 'Scarborough', 'Wexford\\n']\n",
      "['M2R', 'North York', 'Willowdale West\\n']\n",
      "['M3R', 'Not assigned', 'Not assigned\\n']\n",
      "['M4R', 'Central Toronto', 'North Toronto West\\n']\n",
      "['M5R', 'Central Toronto', 'The Annex\\n']\n",
      "['M5R', 'Central Toronto', 'North Midtown\\n']\n",
      "['M5R', 'Central Toronto', 'Yorkville\\n']\n",
      "['M6R', 'West Toronto', 'Parkdale\\n']\n",
      "['M6R', 'West Toronto', 'Roncesvalles\\n']\n",
      "['M7R', 'Mississauga', 'Canada Post Gateway Processing Centre\\n']\n",
      "['M8R', 'Not assigned', 'Not assigned\\n']\n",
      "['M9R', 'Etobicoke', 'Kingsview Village\\n']\n",
      "['M9R', 'Etobicoke', 'Martin Grove Gardens\\n']\n",
      "['M9R', 'Etobicoke', 'Richview Gardens\\n']\n",
      "['M9R', 'Etobicoke', 'St. Phillips\\n']\n",
      "['M1S', 'Scarborough', 'Agincourt\\n']\n",
      "['M2S', 'Not assigned', 'Not assigned\\n']\n",
      "['M3S', 'Not assigned', 'Not assigned\\n']\n",
      "['M4S', 'Central Toronto', 'Davisville\\n']\n",
      "['M5S', 'Downtown Toronto', 'Harbord\\n']\n",
      "['M5S', 'Downtown Toronto', 'University of Toronto\\n']\n",
      "['M6S', 'West Toronto', 'Runnymede\\n']\n",
      "['M6S', 'West Toronto', 'Swansea\\n']\n",
      "['M7S', 'Not assigned', 'Not assigned\\n']\n",
      "['M8S', 'Not assigned', 'Not assigned\\n']\n",
      "['M9S', 'Not assigned', 'Not assigned\\n']\n",
      "['M1T', 'Scarborough', 'Clarks Corners\\n']\n",
      "['M1T', 'Scarborough', 'Sullivan\\n']\n",
      "['M1T', 'Scarborough', \"Tam O'Shanter\\n\"]\n",
      "['M2T', 'Not assigned', 'Not assigned\\n']\n",
      "['M3T', 'Not assigned', 'Not assigned\\n']\n",
      "['M4T', 'Central Toronto', 'Moore Park\\n']\n",
      "['M4T', 'Central Toronto', 'Summerhill East\\n']\n",
      "['M5T', 'Downtown Toronto', 'Chinatown\\n']\n",
      "['M5T', 'Downtown Toronto', 'Grange Park\\n']\n",
      "['M5T', 'Downtown Toronto', 'Kensington Market\\n']\n",
      "['M6T', 'Not assigned', 'Not assigned\\n']\n",
      "['M7T', 'Not assigned', 'Not assigned\\n']\n",
      "['M8T', 'Not assigned', 'Not assigned\\n']\n",
      "['M9T', 'Not assigned', 'Not assigned\\n']\n",
      "['M1V', 'Scarborough', 'Agincourt North\\n']\n",
      "['M1V', 'Scarborough', \"L'Amoreaux East\\n\"]\n",
      "['M1V', 'Scarborough', 'Milliken\\n']\n",
      "['M1V', 'Scarborough', 'Steeles East\\n']\n",
      "['M2V', 'Not assigned', 'Not assigned\\n']\n",
      "['M3V', 'Not assigned', 'Not assigned\\n']\n",
      "['M4V', 'Central Toronto', 'Deer Park\\n']\n",
      "['M4V', 'Central Toronto', 'Forest Hill SE\\n']\n",
      "['M4V', 'Central Toronto', 'Rathnelly\\n']\n",
      "['M4V', 'Central Toronto', 'South Hill\\n']\n",
      "['M4V', 'Central Toronto', 'Summerhill West\\n']\n",
      "['M5V', 'Downtown Toronto', 'CN Tower\\n']\n",
      "['M5V', 'Downtown Toronto', 'Bathurst Quay\\n']\n",
      "['M5V', 'Downtown Toronto', 'Island airport\\n']\n",
      "['M5V', 'Downtown Toronto', 'Harbourfront West\\n']\n",
      "['M5V', 'Downtown Toronto', 'King and Spadina\\n']\n",
      "['M5V', 'Downtown Toronto', 'Railway Lands\\n']\n",
      "['M5V', 'Downtown Toronto', 'South Niagara\\n']\n",
      "['M6V', 'Not assigned', 'Not assigned\\n']\n",
      "['M7V', 'Not assigned', 'Not assigned\\n']\n",
      "['M8V', 'Etobicoke', 'Humber Bay Shores\\n']\n",
      "['M8V', 'Etobicoke', 'Mimico South\\n']\n",
      "['M8V', 'Etobicoke', 'New Toronto\\n']\n",
      "['M9V', 'Etobicoke', 'Albion Gardens\\n']\n",
      "['M9V', 'Etobicoke', 'Beaumond Heights\\n']\n",
      "['M9V', 'Etobicoke', 'Humbergate\\n']\n",
      "['M9V', 'Etobicoke', 'Jamestown\\n']\n",
      "['M9V', 'Etobicoke', 'Mount Olive\\n']\n",
      "['M9V', 'Etobicoke', 'Silverstone\\n']\n",
      "['M9V', 'Etobicoke', 'South Steeles\\n']\n",
      "['M9V', 'Etobicoke', 'Thistletown\\n']\n",
      "['M1W', 'Scarborough', \"L'Amoreaux West\\n\"]\n",
      "['M2W', 'Not assigned', 'Not assigned\\n']\n",
      "['M3W', 'Not assigned', 'Not assigned\\n']\n",
      "['M4W', 'Downtown Toronto', 'Rosedale\\n']\n",
      "['M5W', 'Downtown Toronto', 'Stn A PO Boxes 25 The Esplanade\\n']\n",
      "['M6W', 'Not assigned', 'Not assigned\\n']\n",
      "['M7W', 'Not assigned', 'Not assigned\\n']\n",
      "['M8W', 'Etobicoke', 'Alderwood\\n']\n",
      "['M8W', 'Etobicoke', 'Long Branch\\n']\n",
      "['M9W', 'Etobicoke', 'Northwest\\n']\n",
      "['M1X', 'Scarborough', 'Upper Rouge\\n']\n",
      "['M2X', 'Not assigned', 'Not assigned\\n']\n",
      "['M3X', 'Not assigned', 'Not assigned\\n']\n",
      "['M4X', 'Downtown Toronto', 'Cabbagetown\\n']\n",
      "['M4X', 'Downtown Toronto', 'St. James Town\\n']\n",
      "['M5X', 'Downtown Toronto', 'First Canadian Place\\n']\n",
      "['M5X', 'Downtown Toronto', 'Underground city\\n']\n",
      "['M6X', 'Not assigned', 'Not assigned\\n']\n",
      "['M7X', 'Not assigned', 'Not assigned\\n']\n",
      "['M8X', 'Etobicoke', 'The Kingsway\\n']\n",
      "['M8X', 'Etobicoke', 'Montgomery Road\\n']\n",
      "['M8X', 'Etobicoke', 'Old Mill North\\n']\n",
      "['M9X', 'Not assigned', 'Not assigned\\n']\n",
      "['M1Y', 'Not assigned', 'Not assigned\\n']\n",
      "['M2Y', 'Not assigned', 'Not assigned\\n']\n",
      "['M3Y', 'Not assigned', 'Not assigned\\n']\n",
      "['M4Y', 'Downtown Toronto', 'Church and Wellesley\\n']\n",
      "['M5Y', 'Not assigned', 'Not assigned\\n']\n",
      "['M6Y', 'Not assigned', 'Not assigned\\n']\n",
      "['M7Y', 'East Toronto', 'Business Reply Mail Processing Centre 969 Eastern\\n']\n",
      "['M8Y', 'Etobicoke', 'Humber Bay\\n']\n",
      "['M8Y', 'Etobicoke', \"King's Mill Park\\n\"]\n",
      "['M8Y', 'Etobicoke', 'Kingsway Park South East\\n']\n",
      "['M8Y', 'Etobicoke', 'Mimico NE\\n']\n",
      "['M8Y', 'Etobicoke', 'Old Mill South\\n']\n",
      "['M8Y', 'Etobicoke', 'The Queensway East\\n']\n",
      "['M8Y', 'Etobicoke', 'Royal York South East\\n']\n",
      "['M8Y', 'Etobicoke', 'Sunnylea\\n']\n",
      "['M9Y', 'Not assigned', 'Not assigned\\n']\n",
      "['M1Z', 'Not assigned', 'Not assigned\\n']\n",
      "['M2Z', 'Not assigned', 'Not assigned\\n']\n",
      "['M3Z', 'Not assigned', 'Not assigned\\n']\n",
      "['M4Z', 'Not assigned', 'Not assigned\\n']\n",
      "['M5Z', 'Not assigned', 'Not assigned\\n']\n",
      "['M6Z', 'Not assigned', 'Not assigned\\n']\n",
      "['M7Z', 'Not assigned', 'Not assigned\\n']\n",
      "['M8Z', 'Etobicoke', 'Kingsway Park South West\\n']\n",
      "['M8Z', 'Etobicoke', 'Mimico NW\\n']\n",
      "['M8Z', 'Etobicoke', 'The Queensway West\\n']\n",
      "['M8Z', 'Etobicoke', 'Royal York South West\\n']\n",
      "['M8Z', 'Etobicoke', 'South of Bloor\\n']\n",
      "['M9Z', 'Not assigned', 'Not assigned\\n']\n"
     ]
    }
   ],
   "source": [
    "#Run loops to read the table rows by reading  < td > html tags\n",
    "for tr in table_rows:\n",
    "    td = tr.find_all('td')\n",
    "    row= [i.text for i in td]\n",
    "    print (row)"
   ]
  },
  {
   "cell_type": "code",
   "execution_count": 9,
   "metadata": {},
   "outputs": [
    {
     "data": {
      "text/plain": [
       "[['M1A', 'Not assigned', 'Not assigned\\n'],\n",
       " ['M2A', 'Not assigned', 'Not assigned\\n'],\n",
       " ['M3A', 'North York', 'Parkwoods\\n'],\n",
       " ['M4A', 'North York', 'Victoria Village\\n'],\n",
       " ['M5A', 'Downtown Toronto', 'Harbourfront\\n'],\n",
       " ['M6A', 'North York', 'Lawrence Heights\\n'],\n",
       " ['M6A', 'North York', 'Lawrence Manor\\n'],\n",
       " ['M7A', 'Downtown Toronto', \"Queen's Park\\n\"],\n",
       " ['M8A', 'Not assigned', 'Not assigned\\n'],\n",
       " ['M9A', \"Queen's Park\", 'Not assigned\\n']]"
      ]
     },
     "execution_count": 9,
     "metadata": {},
     "output_type": "execute_result"
    }
   ],
   "source": [
    "#create a list of lists for all rowas\n",
    "listrows=[]\n",
    "j=0\n",
    "for tr in table_rows:\n",
    "    td = tr.find_all('td')\n",
    "    row= [i.text for i in td]\n",
    "    # exclude the header\n",
    "    if (j>0):\n",
    "        listrows.append(row)\n",
    "    j=j+1\n",
    "#Print first 10 rows    \n",
    "listrows [:10]"
   ]
  },
  {
   "cell_type": "code",
   "execution_count": 10,
   "metadata": {},
   "outputs": [
    {
     "data": {
      "text/html": [
       "<div>\n",
       "<style scoped>\n",
       "    .dataframe tbody tr th:only-of-type {\n",
       "        vertical-align: middle;\n",
       "    }\n",
       "\n",
       "    .dataframe tbody tr th {\n",
       "        vertical-align: top;\n",
       "    }\n",
       "\n",
       "    .dataframe thead th {\n",
       "        text-align: right;\n",
       "    }\n",
       "</style>\n",
       "<table border=\"1\" class=\"dataframe\">\n",
       "  <thead>\n",
       "    <tr style=\"text-align: right;\">\n",
       "      <th></th>\n",
       "      <th>0</th>\n",
       "      <th>1</th>\n",
       "      <th>2</th>\n",
       "    </tr>\n",
       "  </thead>\n",
       "  <tbody>\n",
       "    <tr>\n",
       "      <th>0</th>\n",
       "      <td>M1A</td>\n",
       "      <td>Not assigned</td>\n",
       "      <td>Not assigned\\n</td>\n",
       "    </tr>\n",
       "    <tr>\n",
       "      <th>1</th>\n",
       "      <td>M2A</td>\n",
       "      <td>Not assigned</td>\n",
       "      <td>Not assigned\\n</td>\n",
       "    </tr>\n",
       "    <tr>\n",
       "      <th>2</th>\n",
       "      <td>M3A</td>\n",
       "      <td>North York</td>\n",
       "      <td>Parkwoods\\n</td>\n",
       "    </tr>\n",
       "    <tr>\n",
       "      <th>3</th>\n",
       "      <td>M4A</td>\n",
       "      <td>North York</td>\n",
       "      <td>Victoria Village\\n</td>\n",
       "    </tr>\n",
       "    <tr>\n",
       "      <th>4</th>\n",
       "      <td>M5A</td>\n",
       "      <td>Downtown Toronto</td>\n",
       "      <td>Harbourfront\\n</td>\n",
       "    </tr>\n",
       "  </tbody>\n",
       "</table>\n",
       "</div>"
      ],
      "text/plain": [
       "     0                 1                   2\n",
       "0  M1A      Not assigned      Not assigned\\n\n",
       "1  M2A      Not assigned      Not assigned\\n\n",
       "2  M3A        North York         Parkwoods\\n\n",
       "3  M4A        North York  Victoria Village\\n\n",
       "4  M5A  Downtown Toronto      Harbourfront\\n"
      ]
     },
     "execution_count": 10,
     "metadata": {},
     "output_type": "execute_result"
    }
   ],
   "source": [
    "# import pandas and convert the listrows into datafrane\n",
    "import pandas as pd\n",
    "df = pd.DataFrame(listrows)\n",
    "df.head()"
   ]
  },
  {
   "cell_type": "code",
   "execution_count": 12,
   "metadata": {},
   "outputs": [
    {
     "data": {
      "text/html": [
       "<div>\n",
       "<style scoped>\n",
       "    .dataframe tbody tr th:only-of-type {\n",
       "        vertical-align: middle;\n",
       "    }\n",
       "\n",
       "    .dataframe tbody tr th {\n",
       "        vertical-align: top;\n",
       "    }\n",
       "\n",
       "    .dataframe thead th {\n",
       "        text-align: right;\n",
       "    }\n",
       "</style>\n",
       "<table border=\"1\" class=\"dataframe\">\n",
       "  <thead>\n",
       "    <tr style=\"text-align: right;\">\n",
       "      <th></th>\n",
       "      <th>Postcode</th>\n",
       "      <th>Borough</th>\n",
       "      <th>Neighborhood</th>\n",
       "    </tr>\n",
       "  </thead>\n",
       "  <tbody>\n",
       "    <tr>\n",
       "      <th>0</th>\n",
       "      <td>M1A</td>\n",
       "      <td>Not assigned</td>\n",
       "      <td>Not assigned\\n</td>\n",
       "    </tr>\n",
       "    <tr>\n",
       "      <th>1</th>\n",
       "      <td>M2A</td>\n",
       "      <td>Not assigned</td>\n",
       "      <td>Not assigned\\n</td>\n",
       "    </tr>\n",
       "    <tr>\n",
       "      <th>2</th>\n",
       "      <td>M3A</td>\n",
       "      <td>North York</td>\n",
       "      <td>Parkwoods\\n</td>\n",
       "    </tr>\n",
       "    <tr>\n",
       "      <th>3</th>\n",
       "      <td>M4A</td>\n",
       "      <td>North York</td>\n",
       "      <td>Victoria Village\\n</td>\n",
       "    </tr>\n",
       "    <tr>\n",
       "      <th>4</th>\n",
       "      <td>M5A</td>\n",
       "      <td>Downtown Toronto</td>\n",
       "      <td>Harbourfront\\n</td>\n",
       "    </tr>\n",
       "  </tbody>\n",
       "</table>\n",
       "</div>"
      ],
      "text/plain": [
       "  Postcode           Borough        Neighborhood\n",
       "0      M1A      Not assigned      Not assigned\\n\n",
       "1      M2A      Not assigned      Not assigned\\n\n",
       "2      M3A        North York         Parkwoods\\n\n",
       "3      M4A        North York  Victoria Village\\n\n",
       "4      M5A  Downtown Toronto      Harbourfront\\n"
      ]
     },
     "execution_count": 12,
     "metadata": {},
     "output_type": "execute_result"
    }
   ],
   "source": [
    "#The dataframe will consist of three columns: PostalCode, Borough, and Neighborhood; Thereforem assignign those columns\n",
    "df.columns = ['Postcode', 'Borough', 'Neighborhood']\n",
    "df.head()"
   ]
  },
  {
   "cell_type": "code",
   "execution_count": 13,
   "metadata": {},
   "outputs": [],
   "source": [
    "#Create fucntion to clean the ending new line \"\\n\"\n",
    "def cleanNeighborhood(Neighborhood):\n",
    "    str2 = Neighborhood.replace('\\n', '')\n",
    "    return str2"
   ]
  },
  {
   "cell_type": "code",
   "execution_count": 14,
   "metadata": {},
   "outputs": [],
   "source": [
    "#If a cell has a borough but a Not assigned neighborhood, then the neighborhood will be the same as the borough. \n",
    "#So for the 9th cell in the table on the Wikipedia page, \n",
    "#the value of the Borough and the Neighborhood columns will be Queen's Park.\n",
    "def notAssignedMatch(Borough, Neighborhood):\n",
    "    if (Neighborhood == 'Not assigned'):\n",
    "        matchVar = Borough\n",
    "    else:\n",
    "        matchVar = Neighborhood\n",
    "    return matchVar"
   ]
  },
  {
   "cell_type": "code",
   "execution_count": 15,
   "metadata": {},
   "outputs": [
    {
     "name": "stdout",
     "output_type": "stream",
     "text": [
      "Not assigned\n",
      "Queens Park\n"
     ]
    }
   ],
   "source": [
    "#Check these two functions before applying to the dataframe\n",
    "print(cleanNeighborhood ('Not assigned\\n'))\n",
    "print(notAssignedMatch ('Queen''s Park', 'Not assigned'))"
   ]
  },
  {
   "cell_type": "code",
   "execution_count": 16,
   "metadata": {},
   "outputs": [],
   "source": [
    "#Apply the two functions to the dataframe\n",
    "df['Neighborhood'] = df.apply(lambda row: cleanNeighborhood(row['Neighborhood']), axis=1)\n",
    "df['Neighborhood'] = df.apply(lambda row: notAssignedMatch(row['Borough'], row['Neighborhood']), axis=1)"
   ]
  },
  {
   "cell_type": "code",
   "execution_count": 18,
   "metadata": {},
   "outputs": [
    {
     "data": {
      "text/html": [
       "<div>\n",
       "<style scoped>\n",
       "    .dataframe tbody tr th:only-of-type {\n",
       "        vertical-align: middle;\n",
       "    }\n",
       "\n",
       "    .dataframe tbody tr th {\n",
       "        vertical-align: top;\n",
       "    }\n",
       "\n",
       "    .dataframe thead th {\n",
       "        text-align: right;\n",
       "    }\n",
       "</style>\n",
       "<table border=\"1\" class=\"dataframe\">\n",
       "  <thead>\n",
       "    <tr style=\"text-align: right;\">\n",
       "      <th></th>\n",
       "      <th>Postcode</th>\n",
       "      <th>Borough</th>\n",
       "      <th>Neighborhood</th>\n",
       "    </tr>\n",
       "  </thead>\n",
       "  <tbody>\n",
       "    <tr>\n",
       "      <th>0</th>\n",
       "      <td>M1A</td>\n",
       "      <td>Not assigned</td>\n",
       "      <td>Not assigned</td>\n",
       "    </tr>\n",
       "    <tr>\n",
       "      <th>1</th>\n",
       "      <td>M2A</td>\n",
       "      <td>Not assigned</td>\n",
       "      <td>Not assigned</td>\n",
       "    </tr>\n",
       "    <tr>\n",
       "      <th>2</th>\n",
       "      <td>M3A</td>\n",
       "      <td>North York</td>\n",
       "      <td>Parkwoods</td>\n",
       "    </tr>\n",
       "    <tr>\n",
       "      <th>3</th>\n",
       "      <td>M4A</td>\n",
       "      <td>North York</td>\n",
       "      <td>Victoria Village</td>\n",
       "    </tr>\n",
       "    <tr>\n",
       "      <th>4</th>\n",
       "      <td>M5A</td>\n",
       "      <td>Downtown Toronto</td>\n",
       "      <td>Harbourfront</td>\n",
       "    </tr>\n",
       "  </tbody>\n",
       "</table>\n",
       "</div>"
      ],
      "text/plain": [
       "  Postcode           Borough      Neighborhood\n",
       "0      M1A      Not assigned      Not assigned\n",
       "1      M2A      Not assigned      Not assigned\n",
       "2      M3A        North York         Parkwoods\n",
       "3      M4A        North York  Victoria Village\n",
       "4      M5A  Downtown Toronto      Harbourfront"
      ]
     },
     "execution_count": 18,
     "metadata": {},
     "output_type": "execute_result"
    }
   ],
   "source": [
    "#check the data frame\n",
    "df.head()"
   ]
  },
  {
   "cell_type": "code",
   "execution_count": 23,
   "metadata": {},
   "outputs": [
    {
     "data": {
      "text/html": [
       "<div>\n",
       "<style scoped>\n",
       "    .dataframe tbody tr th:only-of-type {\n",
       "        vertical-align: middle;\n",
       "    }\n",
       "\n",
       "    .dataframe tbody tr th {\n",
       "        vertical-align: top;\n",
       "    }\n",
       "\n",
       "    .dataframe thead th {\n",
       "        text-align: right;\n",
       "    }\n",
       "</style>\n",
       "<table border=\"1\" class=\"dataframe\">\n",
       "  <thead>\n",
       "    <tr style=\"text-align: right;\">\n",
       "      <th></th>\n",
       "      <th>Postcode</th>\n",
       "      <th>Borough</th>\n",
       "      <th>Neighborhood</th>\n",
       "    </tr>\n",
       "  </thead>\n",
       "  <tbody>\n",
       "    <tr>\n",
       "      <th>2</th>\n",
       "      <td>M3A</td>\n",
       "      <td>North York</td>\n",
       "      <td>Parkwoods</td>\n",
       "    </tr>\n",
       "    <tr>\n",
       "      <th>3</th>\n",
       "      <td>M4A</td>\n",
       "      <td>North York</td>\n",
       "      <td>Victoria Village</td>\n",
       "    </tr>\n",
       "    <tr>\n",
       "      <th>4</th>\n",
       "      <td>M5A</td>\n",
       "      <td>Downtown Toronto</td>\n",
       "      <td>Harbourfront</td>\n",
       "    </tr>\n",
       "    <tr>\n",
       "      <th>5</th>\n",
       "      <td>M6A</td>\n",
       "      <td>North York</td>\n",
       "      <td>Lawrence Heights</td>\n",
       "    </tr>\n",
       "    <tr>\n",
       "      <th>6</th>\n",
       "      <td>M6A</td>\n",
       "      <td>North York</td>\n",
       "      <td>Lawrence Manor</td>\n",
       "    </tr>\n",
       "  </tbody>\n",
       "</table>\n",
       "</div>"
      ],
      "text/plain": [
       "  Postcode           Borough      Neighborhood\n",
       "2      M3A        North York         Parkwoods\n",
       "3      M4A        North York  Victoria Village\n",
       "4      M5A  Downtown Toronto      Harbourfront\n",
       "5      M6A        North York  Lawrence Heights\n",
       "6      M6A        North York    Lawrence Manor"
      ]
     },
     "execution_count": 23,
     "metadata": {},
     "output_type": "execute_result"
    }
   ],
   "source": [
    "#Only process the cells that have an assigned borough. Ignore cells with a borough that is Not assigned\n",
    "df = df[df['Neighborhood'] !='Not assigned']\n",
    "df.head()"
   ]
  },
  {
   "cell_type": "code",
   "execution_count": 24,
   "metadata": {},
   "outputs": [
    {
     "data": {
      "text/plain": [
       "(210, 3)"
      ]
     },
     "execution_count": 24,
     "metadata": {},
     "output_type": "execute_result"
    }
   ],
   "source": [
    "#check the dataframe shape before applying group by functions\n",
    "df.shape"
   ]
  },
  {
   "cell_type": "code",
   "execution_count": 27,
   "metadata": {},
   "outputs": [
    {
     "data": {
      "text/html": [
       "<div>\n",
       "<style scoped>\n",
       "    .dataframe tbody tr th:only-of-type {\n",
       "        vertical-align: middle;\n",
       "    }\n",
       "\n",
       "    .dataframe tbody tr th {\n",
       "        vertical-align: top;\n",
       "    }\n",
       "\n",
       "    .dataframe thead th {\n",
       "        text-align: right;\n",
       "    }\n",
       "</style>\n",
       "<table border=\"1\" class=\"dataframe\">\n",
       "  <thead>\n",
       "    <tr style=\"text-align: right;\">\n",
       "      <th></th>\n",
       "      <th>Postcode</th>\n",
       "      <th>Borough</th>\n",
       "      <th>Neighborhood</th>\n",
       "    </tr>\n",
       "  </thead>\n",
       "  <tbody>\n",
       "    <tr>\n",
       "      <th>0</th>\n",
       "      <td>M1B</td>\n",
       "      <td>Scarborough</td>\n",
       "      <td>Rouge,Malvern</td>\n",
       "    </tr>\n",
       "    <tr>\n",
       "      <th>1</th>\n",
       "      <td>M1C</td>\n",
       "      <td>Scarborough</td>\n",
       "      <td>Highland Creek,Rouge Hill,Port Union</td>\n",
       "    </tr>\n",
       "    <tr>\n",
       "      <th>2</th>\n",
       "      <td>M1E</td>\n",
       "      <td>Scarborough</td>\n",
       "      <td>Guildwood,Morningside,West Hill</td>\n",
       "    </tr>\n",
       "    <tr>\n",
       "      <th>3</th>\n",
       "      <td>M1G</td>\n",
       "      <td>Scarborough</td>\n",
       "      <td>Woburn</td>\n",
       "    </tr>\n",
       "    <tr>\n",
       "      <th>4</th>\n",
       "      <td>M1H</td>\n",
       "      <td>Scarborough</td>\n",
       "      <td>Cedarbrae</td>\n",
       "    </tr>\n",
       "  </tbody>\n",
       "</table>\n",
       "</div>"
      ],
      "text/plain": [
       "  Postcode      Borough                          Neighborhood\n",
       "0      M1B  Scarborough                         Rouge,Malvern\n",
       "1      M1C  Scarborough  Highland Creek,Rouge Hill,Port Union\n",
       "2      M1E  Scarborough       Guildwood,Morningside,West Hill\n",
       "3      M1G  Scarborough                                Woburn\n",
       "4      M1H  Scarborough                             Cedarbrae"
      ]
     },
     "execution_count": 27,
     "metadata": {},
     "output_type": "execute_result"
    }
   ],
   "source": [
    "df_grouped=df.groupby(['Postcode','Borough']).agg({'Neighborhood' : ','.join}).reset_index()\n",
    "df_grouped.head()"
   ]
  },
  {
   "cell_type": "code",
   "execution_count": 29,
   "metadata": {},
   "outputs": [
    {
     "data": {
      "text/plain": [
       "(103, 3)"
      ]
     },
     "execution_count": 29,
     "metadata": {},
     "output_type": "execute_result"
    }
   ],
   "source": [
    "#In the last cell of your notebook, use the .shape method to print the number of rows of your dataframe\n",
    "df_grouped.shape"
   ]
  }
 ],
 "metadata": {
  "kernelspec": {
   "display_name": "Python 3",
   "language": "python",
   "name": "python3"
  },
  "language_info": {
   "codemirror_mode": {
    "name": "ipython",
    "version": 3
   },
   "file_extension": ".py",
   "mimetype": "text/x-python",
   "name": "python",
   "nbconvert_exporter": "python",
   "pygments_lexer": "ipython3",
   "version": "3.7.1"
  }
 },
 "nbformat": 4,
 "nbformat_minor": 2
}
